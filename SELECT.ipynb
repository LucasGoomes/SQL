{
 "cells": [
  {
   "cell_type": "markdown",
   "id": "09de108b",
   "metadata": {},
   "source": [
    "# SELECT\n",
    "#### Usado para selecionar os dados de um banco de dados, o retorno é armazenado em tabelas, chamadas result-set."
   ]
  },
  {
   "cell_type": "code",
   "execution_count": null,
   "id": "d54d1f21",
   "metadata": {},
   "outputs": [],
   "source": [
    "SELECT *\n",
    "FROM customers"
   ]
  },
  {
   "cell_type": "markdown",
   "id": "79ea4929",
   "metadata": {},
   "source": [
    "Realizando uma operação matematica em uma das colunas e armazenando em uma nova coluna com um novo nome"
   ]
  },
  {
   "cell_type": "code",
   "execution_count": null,
   "id": "ca467799",
   "metadata": {},
   "outputs": [],
   "source": [
    "SELECT \n",
    "\tfirst_name, \n",
    "\tlast_name, \n",
    "\tpoints, \n",
    "\tpoints * 10 + 100 AS 'discount_factor'\n",
    "FROM customers"
   ]
  },
  {
   "cell_type": "markdown",
   "id": "5c835970",
   "metadata": {},
   "source": [
    "#### DISTINCT\n",
    "Usado para retornar somente uma vez cada registro, sem os repetidos"
   ]
  },
  {
   "cell_type": "code",
   "execution_count": null,
   "id": "a2b68880",
   "metadata": {},
   "outputs": [],
   "source": [
    "SELECT DISTINCT state\n",
    "FROM customers"
   ]
  },
  {
   "cell_type": "markdown",
   "id": "3768ed4e",
   "metadata": {},
   "source": [
    "#### WHERE\n",
    "Usado para retornar somente os registros que satisfazem a condição"
   ]
  },
  {
   "cell_type": "code",
   "execution_count": null,
   "id": "1d02a073",
   "metadata": {},
   "outputs": [],
   "source": [
    "SELECT * \n",
    "FROM customers\n",
    "WHERE birth_date > '1990-01-01';"
   ]
  },
  {
   "cell_type": "markdown",
   "id": "481aeada",
   "metadata": {},
   "source": [
    "#### ORDER BY\n",
    "Usado para ordenar a saída dos resultados"
   ]
  },
  {
   "cell_type": "code",
   "execution_count": null,
   "id": "319847e5",
   "metadata": {},
   "outputs": [],
   "source": [
    "SELECT *\n",
    "FROM customers\n",
    "ORDER BY first_name;"
   ]
  },
  {
   "cell_type": "code",
   "execution_count": null,
   "id": "6a124d92",
   "metadata": {},
   "outputs": [],
   "source": [
    "SELECT *\n",
    "FROM customers\n",
    "ORDER BY first_name DESC;"
   ]
  },
  {
   "cell_type": "markdown",
   "id": "b4fa848c",
   "metadata": {},
   "source": [
    "#### AND, OR and NOT operators"
   ]
  },
  {
   "cell_type": "code",
   "execution_count": null,
   "id": "1bf99ed2",
   "metadata": {},
   "outputs": [],
   "source": [
    "SELECT *\n",
    "FROM customers\n",
    "WHERE NOT (birth_date > '1990-01-01' OR points > 1000) AND state = 'VA';\n",
    "\n",
    "SELECT *\n",
    "FROM order_items\n",
    "WHERE order_id = '6' AND (quantity * unit_price > 30)"
   ]
  },
  {
   "cell_type": "markdown",
   "id": "7a235546",
   "metadata": {},
   "source": [
    "#### IN OPERATOR"
   ]
  },
  {
   "cell_type": "code",
   "execution_count": null,
   "id": "88ad6fe7",
   "metadata": {},
   "outputs": [],
   "source": [
    "SELECT *\n",
    "FROM Customers\n",
    "WHERE state IN ('VA', 'FL', 'GA')\n",
    "\n",
    "SELECT *\n",
    "FROM Customers\n",
    "WHERE state NOT IN ('VA', 'FL', 'GA')"
   ]
  },
  {
   "cell_type": "markdown",
   "id": "99771687",
   "metadata": {},
   "source": [
    "#### BETWEEN OPERATOR"
   ]
  },
  {
   "cell_type": "code",
   "execution_count": null,
   "id": "22567c03",
   "metadata": {},
   "outputs": [],
   "source": [
    "SELECT *\n",
    "FROM customers\n",
    "WHERE points BETWEEN 100 AND 3000"
   ]
  },
  {
   "cell_type": "markdown",
   "id": "fe96c796",
   "metadata": {},
   "source": [
    "#### LIKE OPERATOR"
   ]
  },
  {
   "cell_type": "code",
   "execution_count": null,
   "id": "aefab29d",
   "metadata": {},
   "outputs": [],
   "source": [
    "SELECT * \n",
    "FROM customers\n",
    "WHERE last_name LIKE '%b' -- termina com B\n",
    "WHERE last_name LIKE '_b' -- termina com duas letras e a ultima é B\n",
    "WHERE last_name LIKE 'b%' -- começa com b\n",
    "WHERE last_name LIKE '%B%' -- tem b no meio da palavra\n",
    "-- % = qualquer numero de caracteres\n",
    "-- _ = numero exato de caracteres"
   ]
  },
  {
   "cell_type": "code",
   "execution_count": null,
   "id": "97ab821f",
   "metadata": {},
   "outputs": [],
   "source": [
    "SELECT *\n",
    "FROM customers\n",
    "WHERE address LIKE '%trail' OR\n",
    "address LIKE '%avenue%'"
   ]
  },
  {
   "cell_type": "markdown",
   "id": "b9c38170",
   "metadata": {},
   "source": [
    "#### REGEXP\n",
    "busca com expressões regulares"
   ]
  },
  {
   "cell_type": "code",
   "execution_count": null,
   "id": "3cd6dc7a",
   "metadata": {},
   "outputs": [],
   "source": [
    "SELECT * \n",
    "FROM customers\n",
    "WHERE last_name REGEXP '^field'"
   ]
  },
  {
   "cell_type": "markdown",
   "id": "782b00a9",
   "metadata": {},
   "source": [
    "#### IS NULL\n",
    "Buscando instancias dados faltantes/não faltantes"
   ]
  },
  {
   "cell_type": "code",
   "execution_count": null,
   "id": "27aaf9f4",
   "metadata": {},
   "outputs": [],
   "source": [
    "SELECT * \n",
    "FROM customers\n",
    "WHERE phone IS NULL"
   ]
  },
  {
   "cell_type": "code",
   "execution_count": null,
   "id": "53d7bc48",
   "metadata": {},
   "outputs": [],
   "source": [
    "SELECT * \n",
    "FROM customers\n",
    "WHERE phone IS NOT NULL"
   ]
  },
  {
   "cell_type": "markdown",
   "id": "3d94fec5",
   "metadata": {},
   "source": [
    "#### LIMIT\n",
    "limitando o número de linhas retornadas"
   ]
  },
  {
   "cell_type": "code",
   "execution_count": null,
   "id": "b4284160",
   "metadata": {},
   "outputs": [],
   "source": [
    "SELECT *\n",
    "FROM customers\n",
    "LIMIT 3"
   ]
  },
  {
   "cell_type": "code",
   "execution_count": null,
   "id": "5ff85b9a",
   "metadata": {},
   "outputs": [],
   "source": [
    "SELECT *\n",
    "FROM customers\n",
    "LIMIT 6,3 -- pulando 6 registros e selecionando os 3 próximos"
   ]
  },
  {
   "cell_type": "markdown",
   "id": "f2001802",
   "metadata": {},
   "source": [
    "#### INNER JOINS\n",
    "Selecionando dados de mais de uma tabela"
   ]
  },
  {
   "cell_type": "code",
   "execution_count": null,
   "id": "9e814471",
   "metadata": {},
   "outputs": [],
   "source": [
    "SELECT order_id, orders.customer_id, first_name, last_name\n",
    "FROM orders\n",
    "JOIN customers \n",
    "    ON orders.customer_id = customers.customer_id"
   ]
  },
  {
   "cell_type": "markdown",
   "id": "064b7f3f",
   "metadata": {},
   "source": [
    "#### JOINING ACROSS DATABASES"
   ]
  },
  {
   "cell_type": "code",
   "execution_count": null,
   "id": "09ca1616",
   "metadata": {},
   "outputs": [],
   "source": [
    "SELECT *\n",
    "FROM orders_items o\n",
    "JOIN invetory.products i\n",
    "    ON o.product_id = i.product_id"
   ]
  },
  {
   "cell_type": "markdown",
   "id": "9165e787",
   "metadata": {},
   "source": [
    "#### SELF JOINS\n",
    "fazendo join da tabela com ela mesma"
   ]
  },
  {
   "cell_type": "code",
   "execution_count": null,
   "id": "bc59f6e2",
   "metadata": {},
   "outputs": [],
   "source": [
    "#no caso deste código, estamos selecionando o manager de cada empregado, cuja informação está na propria tabela de empregados \n",
    "USE hr;\n",
    "SELECT \n",
    "    e.employee_id,\n",
    "    e.first_name,\n",
    "    m.first_name AS manager\n",
    "FROM employees e\n",
    "JOIN employees m\n",
    "    ON e.reports_to = m.employee_id"
   ]
  },
  {
   "cell_type": "markdown",
   "id": "d893da9f",
   "metadata": {},
   "source": [
    "#### JOINING MULTIPLES TABLES"
   ]
  },
  {
   "cell_type": "code",
   "execution_count": null,
   "id": "e5c30ca8",
   "metadata": {},
   "outputs": [],
   "source": [
    "SELECT \n",
    "    o.order_id,\n",
    "    o.order_date,\n",
    "    c.first_name,\n",
    "    c.last_name,\n",
    "    os.name AS status\n",
    "FROM orders o\n",
    "JOIN customers c\n",
    "    ON o.customer_id = c.customer_id\n",
    "JOIN order_status os\n",
    "    ON o.status = os.order_status_id"
   ]
  },
  {
   "cell_type": "markdown",
   "id": "27bb4e2a",
   "metadata": {},
   "source": [
    "#### COMPOUND JOIN CONDITIONS"
   ]
  },
  {
   "cell_type": "code",
   "execution_count": null,
   "id": "6371ff13",
   "metadata": {},
   "outputs": [],
   "source": []
  },
  {
   "cell_type": "code",
   "execution_count": null,
   "id": "3ee3e2af",
   "metadata": {},
   "outputs": [],
   "source": []
  },
  {
   "cell_type": "code",
   "execution_count": null,
   "id": "0afb739d",
   "metadata": {},
   "outputs": [],
   "source": []
  },
  {
   "cell_type": "code",
   "execution_count": null,
   "id": "d32e625f",
   "metadata": {},
   "outputs": [],
   "source": []
  }
 ],
 "metadata": {
  "kernelspec": {
   "display_name": "Python 3 (ipykernel)",
   "language": "python",
   "name": "python3"
  },
  "language_info": {
   "codemirror_mode": {
    "name": "ipython",
    "version": 3
   },
   "file_extension": ".py",
   "mimetype": "text/x-python",
   "name": "python",
   "nbconvert_exporter": "python",
   "pygments_lexer": "ipython3",
   "version": "3.10.9"
  }
 },
 "nbformat": 4,
 "nbformat_minor": 5
}
