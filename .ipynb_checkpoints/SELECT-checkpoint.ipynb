{
 "cells": [
  {
   "cell_type": "markdown",
   "id": "94c1fd4d",
   "metadata": {},
   "source": [
    "# SELECT\n",
    "#### Usado para selecionar os dados de um banco de dados, o retorno é armazenado em tabelas, chamadas result-set."
   ]
  },
  {
   "cell_type": "code",
   "execution_count": null,
   "id": "bee895de",
   "metadata": {},
   "outputs": [],
   "source": [
    "SELECT *\n",
    "FROM customers"
   ]
  },
  {
   "cell_type": "markdown",
   "id": "590ac338",
   "metadata": {},
   "source": [
    "Realizando uma operação matematica em uma das colunas e armazenando em uma nova coluna com um novo nome"
   ]
  },
  {
   "cell_type": "code",
   "execution_count": null,
   "id": "dde9ebd1",
   "metadata": {},
   "outputs": [],
   "source": [
    "SELECT \n",
    "\tfirst_name, \n",
    "\tlast_name, \n",
    "\tpoints, \n",
    "\tpoints * 10 + 100 AS 'discount_factor'\n",
    "FROM customers"
   ]
  },
  {
   "cell_type": "markdown",
   "id": "fa3d67ba",
   "metadata": {},
   "source": [
    "#### DISTINCT\n",
    "Usado para retornar somente uma vez cada registro, sem os repetidos"
   ]
  },
  {
   "cell_type": "code",
   "execution_count": null,
   "id": "2f6ce463",
   "metadata": {},
   "outputs": [],
   "source": [
    "SELECT DISTINCT state\n",
    "FROM customers"
   ]
  },
  {
   "cell_type": "markdown",
   "id": "e41f1c8f",
   "metadata": {},
   "source": [
    "#### WHERE\n",
    "Usado para retornar somente os registros que satisfazem a condição"
   ]
  },
  {
   "cell_type": "code",
   "execution_count": null,
   "id": "11f05a40",
   "metadata": {},
   "outputs": [],
   "source": [
    "SELECT * \n",
    "FROM customers\n",
    "WHERE birth_date > '1990-01-01';"
   ]
  },
  {
   "cell_type": "markdown",
   "id": "c9f94364",
   "metadata": {},
   "source": [
    "#### ORDER BY\n",
    "Usado para ordenar a saída dos resultados"
   ]
  },
  {
   "cell_type": "code",
   "execution_count": null,
   "id": "0b10e0e6",
   "metadata": {},
   "outputs": [],
   "source": [
    "SELECT *\n",
    "FROM customers\n",
    "ORDER BY first_name;"
   ]
  },
  {
   "cell_type": "code",
   "execution_count": null,
   "id": "d8247754",
   "metadata": {},
   "outputs": [],
   "source": [
    "SELECT *\n",
    "FROM customers\n",
    "ORDER BY first_name DESC;"
   ]
  },
  {
   "cell_type": "markdown",
   "id": "5b39ddd1",
   "metadata": {},
   "source": [
    "#### AND, OR and NOT operators"
   ]
  },
  {
   "cell_type": "code",
   "execution_count": null,
   "id": "bf3bb5a1",
   "metadata": {},
   "outputs": [],
   "source": [
    "SELECT *\n",
    "FROM customers\n",
    "WHERE NOT (birth_date > '1990-01-01' OR points > 1000) AND state = 'VA';\n",
    "\n",
    "SELECT *\n",
    "FROM order_items\n",
    "WHERE order_id = '6' AND (quantity * unit_price > 30)"
   ]
  },
  {
   "cell_type": "markdown",
   "id": "a518c0a9",
   "metadata": {},
   "source": [
    "#### IN OPERATOR"
   ]
  },
  {
   "cell_type": "code",
   "execution_count": null,
   "id": "3f2a9f15",
   "metadata": {},
   "outputs": [],
   "source": [
    "SELECT *\n",
    "FROM Customers\n",
    "WHERE state IN ('VA', 'FL', 'GA')\n",
    "\n",
    "SELECT *\n",
    "FROM Customers\n",
    "WHERE state NOT IN ('VA', 'FL', 'GA')"
   ]
  },
  {
   "cell_type": "markdown",
   "id": "1ca4a8cd",
   "metadata": {},
   "source": [
    "#### BETWEEN OPERATOR"
   ]
  },
  {
   "cell_type": "code",
   "execution_count": null,
   "id": "f73d0369",
   "metadata": {},
   "outputs": [],
   "source": [
    "SELECT *\n",
    "FROM customers\n",
    "WHERE points BETWEEN 100 AND 3000"
   ]
  },
  {
   "cell_type": "markdown",
   "id": "87ee8b59",
   "metadata": {},
   "source": [
    "#### LIKE OPERATOR"
   ]
  },
  {
   "cell_type": "code",
   "execution_count": null,
   "id": "83f046c4",
   "metadata": {},
   "outputs": [],
   "source": [
    "SELECT * \n",
    "FROM customers\n",
    "WHERE last_name LIKE '%b' -- termina com B\n",
    "WHERE last_name LIKE '_b' -- termina com duas letras e a ultima é B\n",
    "WHERE last_name LIKE 'b%' -- começa com b\n",
    "WHERE last_name LIKE '%B%' -- tem b no meio da palavra\n",
    "-- % = qualquer numero de caracteres\n",
    "-- _ = numero exato de caracteres"
   ]
  },
  {
   "cell_type": "code",
   "execution_count": null,
   "id": "db75c68d",
   "metadata": {},
   "outputs": [],
   "source": [
    "SELECT *\n",
    "FROM customers\n",
    "WHERE address LIKE '%trail' OR\n",
    "address LIKE '%avenue%'"
   ]
  },
  {
   "cell_type": "markdown",
   "id": "dbba0dc1",
   "metadata": {},
   "source": [
    "#### REGEXP\n",
    "busca com expressões regulares"
   ]
  },
  {
   "cell_type": "code",
   "execution_count": null,
   "id": "aed2db4f",
   "metadata": {},
   "outputs": [],
   "source": [
    "SELECT * \n",
    "FROM customers\n",
    "WHERE last_name REGEXP '^field'"
   ]
  },
  {
   "cell_type": "markdown",
   "id": "f57f400d",
   "metadata": {},
   "source": [
    "#### IS NULL\n",
    "Buscando instancias dados faltantes/não faltantes"
   ]
  },
  {
   "cell_type": "code",
   "execution_count": null,
   "id": "26b18189",
   "metadata": {},
   "outputs": [],
   "source": [
    "SELECT * \n",
    "FROM customers\n",
    "WHERE phone IS NULL"
   ]
  },
  {
   "cell_type": "code",
   "execution_count": null,
   "id": "9b69bb3b",
   "metadata": {},
   "outputs": [],
   "source": [
    "SELECT * \n",
    "FROM customers\n",
    "WHERE phone IS NOT NULL"
   ]
  },
  {
   "cell_type": "markdown",
   "id": "f7b4976c",
   "metadata": {},
   "source": [
    "#### LIMIT\n",
    "limitando o número de linhas retornadas"
   ]
  },
  {
   "cell_type": "code",
   "execution_count": null,
   "id": "70cec83c",
   "metadata": {},
   "outputs": [],
   "source": []
  },
  {
   "cell_type": "code",
   "execution_count": null,
   "id": "e7549a77",
   "metadata": {},
   "outputs": [],
   "source": []
  },
  {
   "cell_type": "code",
   "execution_count": null,
   "id": "620731c5",
   "metadata": {},
   "outputs": [],
   "source": []
  },
  {
   "cell_type": "code",
   "execution_count": null,
   "id": "760e700a",
   "metadata": {},
   "outputs": [],
   "source": []
  }
 ],
 "metadata": {
  "kernelspec": {
   "display_name": "Python 3 (ipykernel)",
   "language": "python",
   "name": "python3"
  },
  "language_info": {
   "codemirror_mode": {
    "name": "ipython",
    "version": 3
   },
   "file_extension": ".py",
   "mimetype": "text/x-python",
   "name": "python",
   "nbconvert_exporter": "python",
   "pygments_lexer": "ipython3",
   "version": "3.10.9"
  }
 },
 "nbformat": 4,
 "nbformat_minor": 5
}
